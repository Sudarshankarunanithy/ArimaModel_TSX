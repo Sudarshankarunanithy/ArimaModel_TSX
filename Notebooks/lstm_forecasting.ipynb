{
 "cells": [
  {
   "cell_type": "code",
   "execution_count": null,
   "id": "47547aa1",
   "metadata": {},
   "outputs": [],
   "source": [
    "from sklearn.preprocessing import MinMaxScaler\n",
    "from tensorflow.keras.models import Sequential\n",
    "from tensorflow.keras.layers import LSTM, Dense\n",
    "import numpy as np"
   ]
  },
  {
   "cell_type": "code",
   "execution_count": null,
   "id": "72ce7177",
   "metadata": {},
   "outputs": [],
   "source": [
    "scaler = MinMaxScaler()\n",
    "lstm_data = scaler.fit_transform(tsx[['Close']])"
   ]
  },
  {
   "cell_type": "code",
   "execution_count": null,
   "id": "f8e2faab",
   "metadata": {},
   "outputs": [],
   "source": [
    "X_lstm, y_lstm = [], []"
   ]
  },
  {
   "cell_type": "code",
   "execution_count": null,
   "id": "e07e4709",
   "metadata": {},
   "outputs": [],
   "source": [
    "for i in range(60, len(lstm_data)):\n",
    "    X_lstm.append(lstm_data[i-60:i, 0])\n",
    "    y_lstm.append(lstm_data[i, 0])"
   ]
  },
  {
   "cell_type": "code",
   "execution_count": null,
   "id": "be0f8a9c",
   "metadata": {},
   "outputs": [],
   "source": [
    "X_lstm, y_lstm = np.array(X_lstm), np.array(y_lstm)\n",
    "X_lstm = X_lstm.reshape((X_lstm.shape[0], X_lstm.shape[1], 1))"
   ]
  },
  {
   "cell_type": "code",
   "execution_count": null,
   "id": "fac21dc6",
   "metadata": {},
   "outputs": [],
   "source": [
    "model = Sequential()\n",
    "model.add(LSTM(units=50, return_sequences=True, input_shape=(X_lstm.shape[1], 1)))\n",
    "model.add(LSTM(units=50))\n",
    "model.add(Dense(1))\n",
    "model.compile(optimizer='adam', loss='mean_squared_error')\n",
    "model.fit(X_lstm, y_lstm, epochs=10, batch_size=32)"
   ]
  },
  {
   "cell_type": "code",
   "execution_count": null,
   "id": "24253eaa",
   "metadata": {},
   "outputs": [],
   "source": [
    "preds = model.predict(X_lstm[-7:])\n",
    "preds_rescaled = scaler.inverse_transform(preds)\n",
    "print(\"7-day LSTM Forecast:\", preds_rescaled.flatten())"
   ]
  }
 ],
 "metadata": {
  "language_info": {
   "name": "python"
  }
 },
 "nbformat": 4,
 "nbformat_minor": 5
}
